{
  "nbformat": 4,
  "nbformat_minor": 0,
  "metadata": {
    "colab": {
      "provenance": [],
      "authorship_tag": "ABX9TyO1+fHZ3ucM5a6oy5AYQULK",
      "include_colab_link": true
    },
    "kernelspec": {
      "name": "python3",
      "display_name": "Python 3"
    },
    "language_info": {
      "name": "python"
    }
  },
  "cells": [
    {
      "cell_type": "markdown",
      "metadata": {
        "id": "view-in-github",
        "colab_type": "text"
      },
      "source": [
        "<a href=\"https://colab.research.google.com/github/doosanpark/BootExample/blob/master/NumpyBasicGrammar.ipynb\" target=\"_parent\"><img src=\"https://colab.research.google.com/assets/colab-badge.svg\" alt=\"Open In Colab\"/></a>"
      ]
    },
    {
      "cell_type": "code",
      "execution_count": 2,
      "metadata": {
        "id": "HsuZX1KEX6-X"
      },
      "outputs": [],
      "source": [
        "import numpy as np"
      ]
    },
    {
      "cell_type": "code",
      "source": [
        "narray = np.array([1, 3, 5, 7, 9])\n",
        "narray"
      ],
      "metadata": {
        "colab": {
          "base_uri": "https://localhost:8080/"
        },
        "id": "CsB5eASaYEW4",
        "outputId": "3126abf1-fbc4-410d-f346-6c78f1723436"
      },
      "execution_count": 4,
      "outputs": [
        {
          "output_type": "execute_result",
          "data": {
            "text/plain": [
              "array([1, 3, 5, 7, 9])"
            ]
          },
          "metadata": {},
          "execution_count": 4
        }
      ]
    },
    {
      "cell_type": "code",
      "source": [
        "narray.shape"
      ],
      "metadata": {
        "colab": {
          "base_uri": "https://localhost:8080/"
        },
        "id": "l8lgZPl7YvLz",
        "outputId": "e5f0fd12-e4b7-400f-99fe-68f02edb482b"
      },
      "execution_count": 6,
      "outputs": [
        {
          "output_type": "execute_result",
          "data": {
            "text/plain": [
              "(5,)"
            ]
          },
          "metadata": {},
          "execution_count": 6
        }
      ]
    },
    {
      "cell_type": "code",
      "source": [
        "darray = np.array([[1,3,5,7,9], [2,4,6,8,10]])\n",
        "darray"
      ],
      "metadata": {
        "colab": {
          "base_uri": "https://localhost:8080/"
        },
        "id": "VFMNSHRjY3fh",
        "outputId": "ed0eca05-9d3e-405b-9998-57acfbc8b75a"
      },
      "execution_count": 7,
      "outputs": [
        {
          "output_type": "execute_result",
          "data": {
            "text/plain": [
              "array([[ 1,  3,  5,  7,  9],\n",
              "       [ 2,  4,  6,  8, 10]])"
            ]
          },
          "metadata": {},
          "execution_count": 7
        }
      ]
    },
    {
      "cell_type": "code",
      "source": [
        "darray.shape"
      ],
      "metadata": {
        "colab": {
          "base_uri": "https://localhost:8080/"
        },
        "id": "iSmVnfPbaOjj",
        "outputId": "7e2f95fe-e953-4791-d45b-8f28a05f8d5d"
      },
      "execution_count": 8,
      "outputs": [
        {
          "output_type": "execute_result",
          "data": {
            "text/plain": [
              "(2, 5)"
            ]
          },
          "metadata": {},
          "execution_count": 8
        }
      ]
    },
    {
      "cell_type": "code",
      "source": [
        "d52=darray.reshape(5,2)\n",
        "d52"
      ],
      "metadata": {
        "colab": {
          "base_uri": "https://localhost:8080/"
        },
        "id": "QLk8PAFgaRiy",
        "outputId": "df6b85db-ecc8-43d4-e479-6ffb78632d6e"
      },
      "execution_count": 10,
      "outputs": [
        {
          "output_type": "execute_result",
          "data": {
            "text/plain": [
              "(5, 2)"
            ]
          },
          "metadata": {},
          "execution_count": 10
        }
      ]
    },
    {
      "cell_type": "code",
      "source": [
        "d52.shape"
      ],
      "metadata": {
        "colab": {
          "base_uri": "https://localhost:8080/"
        },
        "id": "Vx2le5YjaXWk",
        "outputId": "01eabe83-0c72-4a5c-ef0b-8bbf3555aa19"
      },
      "execution_count": 11,
      "outputs": [
        {
          "output_type": "execute_result",
          "data": {
            "text/plain": [
              "(5, 2)"
            ]
          },
          "metadata": {},
          "execution_count": 11
        }
      ]
    },
    {
      "cell_type": "code",
      "source": [
        "d10 = darray.reshape(10, )\n",
        "d10"
      ],
      "metadata": {
        "colab": {
          "base_uri": "https://localhost:8080/"
        },
        "id": "KklmE9xjabgV",
        "outputId": "4b19ec2c-3bd7-4c9f-b60b-9620b6c76974"
      },
      "execution_count": 14,
      "outputs": [
        {
          "output_type": "execute_result",
          "data": {
            "text/plain": [
              "array([ 1,  3,  5,  7,  9,  2,  4,  6,  8, 10])"
            ]
          },
          "metadata": {},
          "execution_count": 14
        }
      ]
    },
    {
      "cell_type": "code",
      "source": [
        "zero = np.zeros((2,5))\n",
        "zero"
      ],
      "metadata": {
        "colab": {
          "base_uri": "https://localhost:8080/"
        },
        "id": "jvR1Q1nQahN3",
        "outputId": "8e8de0a6-e9e9-43a2-ec9b-73a2b1b7cac0"
      },
      "execution_count": 15,
      "outputs": [
        {
          "output_type": "execute_result",
          "data": {
            "text/plain": [
              "array([[0., 0., 0., 0., 0.],\n",
              "       [0., 0., 0., 0., 0.]])"
            ]
          },
          "metadata": {},
          "execution_count": 15
        }
      ]
    },
    {
      "cell_type": "code",
      "source": [
        "one = np.ones((2,5))\n",
        "one"
      ],
      "metadata": {
        "colab": {
          "base_uri": "https://localhost:8080/"
        },
        "id": "hK4vYc1galdd",
        "outputId": "5a82a45f-a091-4ffc-c0f9-9ba2add4571c"
      },
      "execution_count": 16,
      "outputs": [
        {
          "output_type": "execute_result",
          "data": {
            "text/plain": [
              "array([[1., 1., 1., 1., 1.],\n",
              "       [1., 1., 1., 1., 1.]])"
            ]
          },
          "metadata": {},
          "execution_count": 16
        }
      ]
    },
    {
      "cell_type": "code",
      "source": [
        "r=np.random.rand(3)\n",
        "print(r)"
      ],
      "metadata": {
        "colab": {
          "base_uri": "https://localhost:8080/"
        },
        "id": "dXuHr7cJawV-",
        "outputId": "ab98943a-4828-42f6-ccfc-7e060a968937"
      },
      "execution_count": 17,
      "outputs": [
        {
          "output_type": "stream",
          "name": "stdout",
          "text": [
            "[0.24853594 0.82174577 0.58307227]\n"
          ]
        }
      ]
    },
    {
      "cell_type": "code",
      "source": [
        "import matplotlib.pyplot as plt\n",
        "r1000 = np.random.rand(1000)\n",
        "plt.hist(r1000)\n",
        "plt.grid()"
      ],
      "metadata": {
        "colab": {
          "base_uri": "https://localhost:8080/",
          "height": 430
        },
        "id": "lq3-GtGya1tC",
        "outputId": "0f44f538-8c1f-4096-9a49-02298f4eb460"
      },
      "execution_count": 29,
      "outputs": [
        {
          "output_type": "display_data",
          "data": {
            "text/plain": [
              "<Figure size 640x480 with 1 Axes>"
            ],
            "image/png": "[encoded data removed]"
          },
          "metadata": {}
        }
      ]
    },
    {
      "cell_type": "code",
      "source": [
        "rn = np.random.normal(0, 1, 3)\n",
        "rn"
      ],
      "metadata": {
        "colab": {
          "base_uri": "https://localhost:8080/"
        },
        "id": "kWX28P1XbVNf",
        "outputId": "9f6f91a1-3068-4cd2-91e5-a0d32d8dd94e"
      },
      "execution_count": 30,
      "outputs": [
        {
          "output_type": "execute_result",
          "data": {
            "text/plain": [
              "array([-2.05190464, -0.01704616,  0.27950954])"
            ]
          },
          "metadata": {},
          "execution_count": 30
        }
      ]
    },
    {
      "cell_type": "code",
      "source": [
        "rn1000 = np.random.normal(0, 1, 1000)\n",
        "plt.hist(rn1000)\n",
        "plt.grid()"
      ],
      "metadata": {
        "colab": {
          "base_uri": "https://localhost:8080/",
          "height": 430
        },
        "id": "R5YijcqMbbF_",
        "outputId": "795dbe6b-cd90-4034-9e5f-dca8cf61e540"
      },
      "execution_count": 35,
      "outputs": [
        {
          "output_type": "display_data",
          "data": {
            "text/plain": [
              "<Figure size 640x480 with 1 Axes>"
            ],
            "image/png": "[encoded data removed]"
          },
          "metadata": {}
        }
      ]
    },
    {
      "cell_type": "code",
      "source": [
        "ni = np.random.randint(1, 100, 5)\n",
        "ni"
      ],
      "metadata": {
        "colab": {
          "base_uri": "https://localhost:8080/"
        },
        "id": "TKtZ8jDHb1yT",
        "outputId": "31d7ec07-e25a-4893-b85f-5b2aea613de5"
      },
      "execution_count": 37,
      "outputs": [
        {
          "output_type": "execute_result",
          "data": {
            "text/plain": [
              "array([20, 48, 52, 90, 47])"
            ]
          },
          "metadata": {},
          "execution_count": 37
        }
      ]
    },
    {
      "cell_type": "code",
      "source": [
        "print(np.random.rand(3))\n",
        "print(np.random.rand(3))"
      ],
      "metadata": {
        "colab": {
          "base_uri": "https://localhost:8080/"
        },
        "id": "ELB2x-Q6cCC2",
        "outputId": "746a6296-c818-4248-a1ad-fa73d32fd913"
      },
      "execution_count": 41,
      "outputs": [
        {
          "output_type": "stream",
          "name": "stdout",
          "text": [
            "[0.54488318 0.4236548  0.64589411]\n",
            "[0.43758721 0.891773   0.96366276]\n"
          ]
        }
      ]
    },
    {
      "cell_type": "code",
      "source": [
        "np.random.seed(0)\n",
        "print(np.random.rand(3))\n",
        "np.random.seed(0)\n",
        "print(np.random.rand(3))"
      ],
      "metadata": {
        "colab": {
          "base_uri": "https://localhost:8080/"
        },
        "id": "KwcJBJyccVcR",
        "outputId": "a24bfe36-aa0b-4f0a-f793-238d59c49047"
      },
      "execution_count": 40,
      "outputs": [
        {
          "output_type": "stream",
          "name": "stdout",
          "text": [
            "[0.5488135  0.71518937 0.60276338]\n",
            "[0.5488135  0.71518937 0.60276338]\n"
          ]
        }
      ]
    },
    {
      "cell_type": "code",
      "source": [
        "five = [1,2,3,4,5]\n",
        "len(five)"
      ],
      "metadata": {
        "colab": {
          "base_uri": "https://localhost:8080/"
        },
        "id": "ZP0M8Cjxc5Cv",
        "outputId": "ab1b9b78-b790-414b-8a69-e19bb3fa94a9"
      },
      "execution_count": 43,
      "outputs": [
        {
          "output_type": "execute_result",
          "data": {
            "text/plain": [
              "5"
            ]
          },
          "metadata": {},
          "execution_count": 43
        }
      ]
    },
    {
      "cell_type": "code",
      "source": [
        "for i in five:\n",
        "  print(\"설거지 끝\")"
      ],
      "metadata": {
        "colab": {
          "base_uri": "https://localhost:8080/"
        },
        "id": "vC84x2OUdMBc",
        "outputId": "310096b8-96f4-427f-9d1f-cbfeb8c32f15"
      },
      "execution_count": 44,
      "outputs": [
        {
          "output_type": "stream",
          "name": "stdout",
          "text": [
            "설거지 끝\n",
            "설거지 끝\n",
            "설거지 끝\n",
            "설거지 끝\n",
            "설거지 끝\n"
          ]
        }
      ]
    },
    {
      "cell_type": "code",
      "source": [
        "ten = [9,8,7,6,5,4,3,2,1,0]\n",
        "len(ten)"
      ],
      "metadata": {
        "colab": {
          "base_uri": "https://localhost:8080/"
        },
        "id": "B2dnECcsdQWq",
        "outputId": "29e9475c-b26a-49ad-e14f-837b940342f5"
      },
      "execution_count": 45,
      "outputs": [
        {
          "output_type": "execute_result",
          "data": {
            "text/plain": [
              "10"
            ]
          },
          "metadata": {},
          "execution_count": 45
        }
      ]
    },
    {
      "cell_type": "code",
      "source": [
        "for i in ten:\n",
        "  print(\"설거지 끝\")\n",
        "  print(int(i))"
      ],
      "metadata": {
        "colab": {
          "base_uri": "https://localhost:8080/"
        },
        "id": "tNpZAVBedWUN",
        "outputId": "8902d28b-0f83-4fe5-ac7a-564f7b942781"
      },
      "execution_count": 49,
      "outputs": [
        {
          "output_type": "stream",
          "name": "stdout",
          "text": [
            "설거지 끝\n",
            "9\n",
            "설거지 끝\n",
            "8\n",
            "설거지 끝\n",
            "7\n",
            "설거지 끝\n",
            "6\n",
            "설거지 끝\n",
            "5\n",
            "설거지 끝\n",
            "4\n",
            "설거지 끝\n",
            "3\n",
            "설거지 끝\n",
            "2\n",
            "설거지 끝\n",
            "1\n",
            "설거지 끝\n",
            "0\n"
          ]
        }
      ]
    },
    {
      "cell_type": "code",
      "source": [
        "for i in five:\n",
        "  print(i, \"번째 설거지 끝\")"
      ],
      "metadata": {
        "colab": {
          "base_uri": "https://localhost:8080/"
        },
        "id": "AulU_We_dn5P",
        "outputId": "9b1dceef-ea93-46b7-d006-6049464c2b63"
      },
      "execution_count": 50,
      "outputs": [
        {
          "output_type": "stream",
          "name": "stdout",
          "text": [
            "1 번째 설거지 끝\n",
            "2 번째 설거지 끝\n",
            "3 번째 설거지 끝\n",
            "4 번째 설거지 끝\n",
            "5 번째 설거지 끝\n"
          ]
        }
      ]
    },
    {
      "cell_type": "code",
      "source": [
        "for i in ten:\n",
        "  print(i, \"개 남았습니다.\")"
      ],
      "metadata": {
        "colab": {
          "base_uri": "https://localhost:8080/"
        },
        "id": "fRGHRUTbd2ao",
        "outputId": "735488b3-5c34-4fea-af1f-f95d4229d469"
      },
      "execution_count": 51,
      "outputs": [
        {
          "output_type": "stream",
          "name": "stdout",
          "text": [
            "9 개 남았습니다.\n",
            "8 개 남았습니다.\n",
            "7 개 남았습니다.\n",
            "6 개 남았습니다.\n",
            "5 개 남았습니다.\n",
            "4 개 남았습니다.\n",
            "3 개 남았습니다.\n",
            "2 개 남았습니다.\n",
            "1 개 남았습니다.\n",
            "0 개 남았습니다.\n"
          ]
        }
      ]
    },
    {
      "cell_type": "code",
      "source": [
        "rten = range(10)\n",
        "list(rten)"
      ],
      "metadata": {
        "colab": {
          "base_uri": "https://localhost:8080/"
        },
        "id": "2TQAxh8kd7lD",
        "outputId": "87fd490a-7659-4b7c-dd9b-cdef82753b0b"
      },
      "execution_count": 52,
      "outputs": [
        {
          "output_type": "execute_result",
          "data": {
            "text/plain": [
              "[0, 1, 2, 3, 4, 5, 6, 7, 8, 9]"
            ]
          },
          "metadata": {},
          "execution_count": 52
        }
      ]
    },
    {
      "cell_type": "code",
      "source": [
        "five1 = range(1, 6, 2)\n",
        "list(five1)"
      ],
      "metadata": {
        "colab": {
          "base_uri": "https://localhost:8080/"
        },
        "id": "YyWzyMmPd93K",
        "outputId": "9bac05ba-5940-42a7-96bc-32f441dc5b9a"
      },
      "execution_count": 55,
      "outputs": [
        {
          "output_type": "execute_result",
          "data": {
            "text/plain": [
              "[1, 3, 5]"
            ]
          },
          "metadata": {},
          "execution_count": 55
        }
      ]
    },
    {
      "cell_type": "code",
      "source": [
        "ten9 = range(9, -10, -2)\n",
        "list(ten9)"
      ],
      "metadata": {
        "colab": {
          "base_uri": "https://localhost:8080/"
        },
        "id": "jTOj2fcMeFMC",
        "outputId": "adc543f4-f7da-41a6-b4b2-f5b80cb582c9"
      },
      "execution_count": 62,
      "outputs": [
        {
          "output_type": "execute_result",
          "data": {
            "text/plain": [
              "[9, 7, 5, 3, 1, -1, -3, -5, -7, -9]"
            ]
          },
          "metadata": {},
          "execution_count": 62
        }
      ]
    },
    {
      "cell_type": "code",
      "source": [
        "for i in range(1,6):\n",
        "  print(i, \"번째 설거 끝\")"
      ],
      "metadata": {
        "id": "mglbx53seagW"
      },
      "execution_count": null,
      "outputs": []
    }
  ]
}